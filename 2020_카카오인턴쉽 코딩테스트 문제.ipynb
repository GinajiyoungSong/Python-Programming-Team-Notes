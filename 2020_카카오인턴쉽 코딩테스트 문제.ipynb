{
 "cells": [
  {
   "cell_type": "markdown",
   "metadata": {},
   "source": [
    "<문제1>\n",
    "스마트폰 전화 키패드의 각 칸에 다음과 같이 숫자들이 적혀 있습니다.\n",
    "\n",
    "     1 2 3 \n",
    "     4 5 6\n",
    "     7 8 9\n",
    "     * 0 #\n",
    "\n",
    "이 전화 키패드에서 왼손과 오른손의 엄지손가락만을 이용해서 숫자만을 입력하려고 합니다.\n",
    "맨 처음 왼손 엄지손가락은 * 키패드에 오른손 엄지손가락은 # 키패드 위치에서 시작하며, 엄지손가락을 사용하는 규칙은 다음과 같습니다.\n",
    "\n",
    "엄지손가락은 상하좌우 4가지 방향으로만 이동할 수 있으며 키패드 이동 한 칸은 거리로 1에 해당합니다.\n",
    "- 왼쪽 열의 3개의 숫자 1, 4, 7을 입력할 때는 왼손 엄지손가락을 사용합니다.\n",
    "- 오른쪽 열의 3개의 숫자 3, 6, 9를 입력할 때는 오른손 엄지손가락을 사용합니다.\n",
    "- 가운데 열의 4개의 숫자 2, 5, 8, 0을 입력할 때는 두 엄지손가락의 현재 키패드의 위치에서 더 가까운 엄지손가락을 사용합니다.\n",
    "- 4-1. 만약 두 엄지손가락의 거리가 같다면, 오른손잡이는 오른손 엄지손가락, 왼손잡이는 왼손 엄지손가락을 사용합니다.\n",
    "순서대로 누를 번호가 담긴 배열 numbers, 왼손잡이인지 오른손잡이인지를 나타내는 문자열 hand가 매개변수로 주어질 때, 각 번호를 누른 엄지손가락이 왼손인지 오른손인지를 나타내는 연속된 문자열 형태로 return 하도록 solution 함수를 완성해 주세요.\n",
    "\n",
    "[제한사항]\n",
    "\n",
    "numbers 배열의 크기는 1 이상 1,000 이하입니다.\n",
    "\n",
    "numbers 배열 원소의 값은 0 이상 9 이하인 정수입니다.\n",
    "\n",
    "hand는   \"left\" 또는    \"right\" 입니다.\n",
    "\n",
    "\"left\"는 왼손잡이, \"right\"는 오른손잡이를 의미합니다.\n",
    "\n",
    " 왼손 엄지손가락을 사용한 경우는 L, 오른손 엄지손가락을 사용한 경우는 R을 순서대로 이어붙여 문자열 형태로 return 해주세요.\n",
    " \n",
    "-----------\n",
    "<입출력 예>\n",
    "\n",
    "        numbers\t                        hand\t        result\n",
    "    [1, 3, 4, 5, 8, 2, 1, 4, 5, 9, 5]\t\"right\"   \t\"LRLLLRLLRRL\"\n",
    "    [7, 0, 8, 2, 8, 3, 1, 5, 7, 6, 2]\t\"left\"\t    \"LRLLRRLLLRR\"\n",
    "    [1, 2, 3, 4, 5, 6, 7, 8, 9, 0]\t   \"right\"   \t\"LLRLLRLLRL\""
   ]
  },
  {
   "cell_type": "code",
   "execution_count": 10,
   "metadata": {},
   "outputs": [
    {
     "name": "stdout",
     "output_type": "stream",
     "text": [
      "[1, 3, 4, 5, 8, 2, 1, 4, 5, 9, 5]   right  , LRLLLRLLRRL\n",
      "[7, 0, 8, 2, 8, 3, 1, 5, 7, 6, 2]   left  , LRLLRRLLLRR\n",
      "[1, 2, 3, 4, 5, 6, 7, 8, 9, 0]   right  , LLRLLRLLRL\n"
     ]
    }
   ],
   "source": [
    "# 입력\n",
    "\n",
    "numbers = [[1, 3, 4, 5, 8, 2, 1, 4, 5, 9, 5],\n",
    "          [7, 0, 8, 2, 8, 3, 1, 5, 7, 6, 2],\n",
    "          [1, 2, 3, 4, 5, 6, 7, 8, 9, 0]]\n",
    "hands = [\"right\", \"left\", \"right\"]\n",
    "\n",
    "def solution(numbers, hands):\n",
    "    # 초기화\n",
    "    answer = ''\n",
    "    left_type = [1, 4, 7]\n",
    "    right_type = [3, 6, 9]\n",
    "    numbers_location = [[3,1],[0,0],[0,1],[0,2],[1,0],[1,1],[1,2],[2,0],[2,1],[2,2]]\n",
    "    left_0 = [3,0]\n",
    "    right_0 = [3,2]\n",
    "\n",
    "    for i in numbers:\n",
    "        if i in left_type:\n",
    "            left_0 = numbers_location[i]\n",
    "            answer += 'L'\n",
    "        elif i in right_type:\n",
    "            right_0 = numbers_location[i]\n",
    "            answer += 'R'\n",
    "        else:\n",
    "            next_0 = numbers_location[i]\n",
    "            \n",
    "            # 가운데 열의 숫자인 경우는 처음에 들어오지 않음, next 에 해당\n",
    "            right = abs(right_0[0]-next_0[0] )+ abs(right_0[1]-next_0[1])\n",
    "            left = abs(left_0[0]-next_0[0]) + abs(left_0[1]-next_0[1])\n",
    "            # 이동거리 계산\n",
    "            if  right < left:\n",
    "                right_0 = next_0 \n",
    "                answer += 'R'\n",
    "            elif right > left:\n",
    "                left_0 = next_0\n",
    "                answer += 'L'\n",
    "            else:\n",
    "                if hands == \"left\":\n",
    "                    left_0 = next_0\n",
    "                    answer += 'L'\n",
    "                else : \n",
    "                    right_0 = next_0\n",
    "                    answer += 'R'\n",
    "                \n",
    "    return answer\n",
    "\n",
    "\n",
    "for i,j in zip(numbers,hands):\n",
    "    print(i,' ', j, ' ,', solution(i,j))"
   ]
  },
  {
   "cell_type": "code",
   "execution_count": null,
   "metadata": {},
   "outputs": [],
   "source": []
  }
 ],
 "metadata": {
  "kernelspec": {
   "display_name": "Python 3",
   "language": "python",
   "name": "python3"
  },
  "language_info": {
   "codemirror_mode": {
    "name": "ipython",
    "version": 3
   },
   "file_extension": ".py",
   "mimetype": "text/x-python",
   "name": "python",
   "nbconvert_exporter": "python",
   "pygments_lexer": "ipython3",
   "version": "3.7.4"
  }
 },
 "nbformat": 4,
 "nbformat_minor": 2
}
