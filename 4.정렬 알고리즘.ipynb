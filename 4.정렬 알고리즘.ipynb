{
 "cells": [
  {
   "cell_type": "markdown",
   "metadata": {},
   "source": [
    "# 정렬 알고리즘\n",
    "Sorting : 데이터를 특정한 기준에 따라 순서대로 나열하는 것\n",
    "\n",
    "### 1. 선택 정렬 : 처리되지 않은 데이터 중에서 가장 작은 데이터를 선택해 맨 앞에 있는 데이터와 바꾸는 것\n",
    " - 데이터 탐색으로  비교하여 swipe 를 시키는 것으로 정답을 출력한다.\n",
    " \n",
    "### 2. 삽입 정렬 : 처리되지 않은 데이터를 하나씩 골라 적절한 위치에 삽입하는 것\n",
    " - 선택 정렬에 추가로 조건을 넣기 때문에 구현 난이도가 높은 편\n",
    " - 좌 우 기준위치에 넣기 위해서 index 비교 조건문을 넣어, 원하는 위치에 swipe 시킨다.\n",
    " \n",
    "### 3. 퀵 정렬: 기준 데이터를 설정하고 그 기준보다 큰 데이터와 작은 데이터의 위치를 바꾸는 것\n",
    " - 일반적안 상황에서 가장 많이 사용되는 정렬 알고리즘 중 하나\n",
    " - 가장 기본 - 첫 번째 데이터를 기준 데이터(Pivot)로 설정\n",
    " \n",
    "### 4. 개수 정렬: 특정한 조건이 부합할 때만 사용, 매우 빠르게 정렬하는 방법\n",
    " - 동일한 데이터가 중복되는 경우가 여러개 등장할 때\n",
    " - 데이터의 범위가 매우 크고, 중복되는 데이터가 소수일 때는 비효율적"
   ]
  },
  {
   "cell_type": "code",
   "execution_count": 2,
   "metadata": {},
   "outputs": [
    {
     "name": "stdout",
     "output_type": "stream",
     "text": [
      "[0, 1, 2, 3, 4, 5, 6, 7, 8, 9]\n",
      "[0, 1, 2, 3, 4, 5, 6, 7, 8, 9]\n"
     ]
    }
   ],
   "source": [
    "array = [7, 5, 9, 0, 3, 1, 6, 2, 4, 8]\n",
    "\n",
    "# 선택정렬 - swipe\n",
    "for i in range(len(array)):\n",
    "    min_index = i # 맨 처음 데이터\n",
    "    for j in range(i + 1, len(array)):\n",
    "        if array[min_index] > array[j]: # for 문으로 그 다음 index 부터 처음 데이터보다 작은 수 찾음\n",
    "            min_index = j\n",
    "    array[i], array[min_index] = array[min_index], array[i] # 스와이프\n",
    "    \n",
    "print(array)\n",
    "\n",
    "\n",
    "\n",
    "# 삽입 정렬 - 2번째 index 부터 시작 - 앞의 데이터와 비교\n",
    "for i in range(1, len(array)):\n",
    "    for j in range(i, 0, -1): # i번째 원소가 index1 이 되기 전까지 왼쪽으로 (-1) 데이터를 비교하면서 작을때 swipe\n",
    "        if array[j] < array[j-1]: # 왼쪽의 데이터보다 작은 지 조건문\n",
    "            array[j], array[j-1] = array[j-1], array[j]\n",
    "        else : \n",
    "            break # 자기보다 작은 데이터를 만나면 break\n",
    "            \n",
    "print(array)"
   ]
  },
  {
   "cell_type": "code",
   "execution_count": 10,
   "metadata": {},
   "outputs": [
    {
     "name": "stdout",
     "output_type": "stream",
     "text": [
      "[0, 1, 2, 3, 4, 5, 6, 7, 8, 9]\n"
     ]
    },
    {
     "data": {
      "text/plain": [
       "[0, 1, 2, 3, 4, 5, 6, 7, 8, 9]"
      ]
     },
     "execution_count": 10,
     "metadata": {},
     "output_type": "execute_result"
    }
   ],
   "source": [
    "# 퀵 정렬\n",
    "array = [5, 7, 9, 0, 3, 1, 6, 2, 4, 8]\n",
    "def quick_sort(array, start, end):\n",
    "    if start >= end: # 원소가 한개인 경우 종료\n",
    "        return\n",
    "    pivot = start # 피벗은 첫번째원소\n",
    "    left = start + 1\n",
    "    right = end\n",
    "    \n",
    "    while(left <= right):\n",
    "        # 피벗보다 큰 데이터를 찾을 때 까지 반복\n",
    "        while(left <= end and array[left] <= array[pivot]):\n",
    "            left +=1\n",
    "            \n",
    "        # 피벗보다 작은 데이터를 찾을 때 까지 반벅\n",
    "        while(right > start and array[right] >= array[pivot]):\n",
    "            right -=1\n",
    "        \n",
    "        # 엇갈렸다면 작은 데이터와 피벗을 교체\n",
    "        if(left > right):\n",
    "            array[right], array[pivot] = array[pivot], array[right]\n",
    "            \n",
    "        #엇갈리지 않았다면 작은 데이터와 큰 데이터를 교체\n",
    "        else:\n",
    "            array[left], array[right] = array[right], array[left]\n",
    "        \n",
    "    # 분할 이후 왼쪽 부분과 오른쪽 부분에서 각각 정렬 수행\n",
    "    quick_sort(array, start, right-1)\n",
    "    quick_sort(array,right+1, end)\n",
    "    \n",
    "quick_sort(array, 0, len(array)-1)\n",
    "print(array)\n",
    "            \n",
    "    \n",
    "def quick_sort2(array):\n",
    "    #리스트가 하나 이하의 원소만을 담고 있다면 종료\n",
    "    if (len(array) <= 1):\n",
    "        return array\n",
    "    pivot = array[0]\n",
    "    tail = array[1:]\n",
    "    \n",
    "    # 분할\n",
    "    left_side = [x for x in tail if x <= pivot] #분할의 왼쪽은 pivot 을 포함하며 작은값 = pivot 중복고려\n",
    "    \n",
    "    \n",
    "    right_side = [x for x in tail if x > pivot] #분할의 오른쪽은 pivot 보다 큰값\n",
    "    \n",
    "    # 분할 이후 왼쪽부분과 오른쪽부분은 각 재귀적으로 반복 후 전체 리턴\n",
    "    return quick_sort2(left_side) + [pivot] + quick_sort2(right_side)\n",
    "\n",
    "quick_sort2(array)"
   ]
  },
  {
   "cell_type": "code",
   "execution_count": 11,
   "metadata": {},
   "outputs": [
    {
     "name": "stdout",
     "output_type": "stream",
     "text": [
      "0 0 1 1 2 2 3 4 5 5 6 7 8 9 9 "
     ]
    }
   ],
   "source": [
    "# 계수 정렬\n",
    "# 모든 원소의 값이 0보다 크거나 같다고 가정\n",
    "array = [7, 5, 9, 0, 3, 1, 6, 2, 9, 1, 4, 8, 0, 5, 2]\n",
    "\n",
    "# 모든 범위를 포함하는 계수 리스트 선언(모든 값은 0으로 초기화)\n",
    "count = [0] * (max(array) + 1)\n",
    "\n",
    "for i in range(len(array)):\n",
    "    count[array[i]] += 1 # 각 데이터에 해당하는 인덱스의 값 증가\n",
    "    \n",
    "for i in range(len(count)): # 계수리스틍 기록된 정렬 정보 확인\n",
    "    for j in range(count[i]):\n",
    "        print(i, end=' ')\n",
    "        \n",
    "        "
   ]
  },
  {
   "cell_type": "code",
   "execution_count": 12,
   "metadata": {},
   "outputs": [
    {
     "name": "stdout",
     "output_type": "stream",
     "text": [
      "선택 정렬 성능측정: 9.843824863433838\n"
     ]
    }
   ],
   "source": [
    "# 선택 정렬과 기본 정렬 라이브러리 수행 시간 비교\n",
    "\n",
    "from random import randint\n",
    "import time\n",
    "\n",
    "#배열에 10,000개의 정수를 삽입\n",
    "array = []\n",
    "for _ in range(10000):\n",
    "    # 1부터 100 사이의 랜덤한 정수\n",
    "    array.append(randint(1,100))\n",
    "    \n",
    "# 선택정렬 프로그램 성능 측정\n",
    "start_time = time.time()\n",
    "for i in range(len(array)):\n",
    "    min_index = i #가장 작은 원소의 인덱스\n",
    "    for j in range(i + 1, len(array)):\n",
    "        if array[min_index] > array[j]:\n",
    "            min_index = j\n",
    "    array[i], array[min_index] = array[min_index], array[i]\n",
    "    \n",
    "\n",
    "# 측정 종료\n",
    "end_time = time.time()\n",
    "# 수행 시간 출력\n",
    "print(\"선택 정렬 성능측정:\", end_time - start_time)"
   ]
  },
  {
   "cell_type": "code",
   "execution_count": 14,
   "metadata": {},
   "outputs": [
    {
     "name": "stdout",
     "output_type": "stream",
     "text": [
      "기본 정렬 성능측정: 0.0010004043579101562\n"
     ]
    }
   ],
   "source": [
    "array = []\n",
    "for _ in range(10000):\n",
    "    # 1부터 100 사이의 랜덤한 정수\n",
    "    array.append(randint(1,100))\n",
    "    \n",
    "start_time = time.time()\n",
    "# 기본 정렬 라이브러리 사용\n",
    "array.sort()\n",
    "\n",
    "end_time = time.time()\n",
    "# 수행 시간 출력\n",
    "print(\"기본 정렬 성능측정:\", end_time - start_time)"
   ]
  },
  {
   "cell_type": "markdown",
   "metadata": {},
   "source": [
    "<문제> 두 배열의 원소 교체\n",
    "\n",
    "- 동빈이는 두 개의 배열 A와 B를 가지고 있습니다. 두 배열은 N개의 원소로 구성되어 있으먀, 배열의 원소는 모두 자연수입니다.\n",
    "- 최대 K번의 바꿔지기 연산을 수행할 수 있는데, 바꿔치기 연산이란 배열 A에 있는 원소 하나와 배열 B에있는 원소 하나를 골라서 두 원소를 서로 바꾸는 것을 말합니다.\n",
    "- 동빈이의 최종 목표는 배열 A의 모든 원소의 합이 최대가 되도록 하는 것입니다.\n",
    "\n",
    "\n",
    "N,K, 배열 A와 B의 정보가 주어졌을 때, 최대 K번의 바꿔치기 연산을 수행하여 만들 수 있는 배열 A의 모든 원소의 합의 최댓값을 출력하는 프로그램을 작성하세요.\n",
    "\n",
    "### 핵심 아이디어: 매번 배열A에서 가장 작은 원소를 골라서, 배열B에서 가장 큰 원소와 교체\n",
    "- min 값과 max 값을 교체해야 최대합을 만들 수 있음"
   ]
  },
  {
   "cell_type": "code",
   "execution_count": null,
   "metadata": {},
   "outputs": [],
   "source": [
    "n, k = map(int, input().split())\n",
    "a = list(map(int,input().split())) # 배열 A의 모든 원소 입력\n",
    "b = list(map(int,input().split())) # 배열 B 모든 원소 입력\n",
    "\n",
    "a.sort()\n",
    "b.sort(reverse=True) # 내림차순으로 정렬\n",
    "\n",
    "for i in range(k):\n",
    "    # A의 원소가 B의 원소보다 작은 경우\n",
    "    if a[i] < b[i]:\n",
    "    # 두 원소 교체\n",
    "        a[i], b[i] = b[i], a[i]\n",
    "    else :\n",
    "        break # A의 원소가 B의 원소보다 크거나 같을 때 반복문을 탈출\n",
    "        \n",
    "sum(a)"
   ]
  }
 ],
 "metadata": {
  "kernelspec": {
   "display_name": "Python 3",
   "language": "python",
   "name": "python3"
  },
  "language_info": {
   "codemirror_mode": {
    "name": "ipython",
    "version": 3
   },
   "file_extension": ".py",
   "mimetype": "text/x-python",
   "name": "python",
   "nbconvert_exporter": "python",
   "pygments_lexer": "ipython3",
   "version": "3.7.4"
  }
 },
 "nbformat": 4,
 "nbformat_minor": 2
}
