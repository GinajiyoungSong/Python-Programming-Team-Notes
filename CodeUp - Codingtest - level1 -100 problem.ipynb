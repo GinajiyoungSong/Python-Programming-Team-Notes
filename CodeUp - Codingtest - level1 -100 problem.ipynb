{
 "cells": [
  {
   "attachments": {},
   "cell_type": "markdown",
   "metadata": {},
   "source": [
    "### 풀었던 codingtest 문제 중 처음 본 함수 메모\n",
    "\n",
    "- 6001 번부터 6025번까지 - 2021.05.09\n",
    "- 6059번까지 2021.05.11"
   ]
  },
  {
   "cell_type": "code",
   "execution_count": 9,
   "metadata": {},
   "outputs": [
    {
     "name": "stdout",
     "output_type": "stream",
     "text": [
      "10\n",
      " a\n",
      " A\n",
      " 12\n"
     ]
    }
   ],
   "source": [
    "# 10진수를 입력받아 16진수(Hexadecimal)로 출력\n",
    "a = int(input())\n",
    "print('% x'% a)\n",
    "print('% X'% a) # 대문자\n",
    "\n",
    "print('% o'% a) # 8진수"
   ]
  },
  {
   "cell_type": "code",
   "execution_count": 7,
   "metadata": {},
   "outputs": [
    {
     "name": "stdout",
     "output_type": "stream",
     "text": [
      "10\n",
      "20\n"
     ]
    }
   ],
   "source": [
    "# 8진수 출력\n",
    "a = int(input(), 16) \n",
    "print('%o'% a)\n"
   ]
  },
  {
   "cell_type": "code",
   "execution_count": 10,
   "metadata": {},
   "outputs": [
    {
     "name": "stdout",
     "output_type": "stream",
     "text": [
      "a\n",
      "97\n"
     ]
    }
   ],
   "source": [
    "# 영문자 1개를 입력받아 10진수 유니코드(Unicode) 값으로 출력해보자.\n",
    "n = ord(input())\n",
    "print(n)\n"
   ]
  },
  {
   "cell_type": "code",
   "execution_count": 12,
   "metadata": {},
   "outputs": [
    {
     "name": "stdout",
     "output_type": "stream",
     "text": [
      "123\n",
      "{\n"
     ]
    }
   ],
   "source": [
    "# 10진 정수 1개를 입력받아 유니코드 문자로 출력해보자.\n",
    "a = int(input())\n",
    "print(chr(a))"
   ]
  },
  {
   "cell_type": "code",
   "execution_count": 13,
   "metadata": {},
   "outputs": [
    {
     "name": "stdout",
     "output_type": "stream",
     "text": [
      "A\n",
      "B\n"
     ]
    }
   ],
   "source": [
    "# 문자 1개를 입력받아 그 다음 문자를 출력해보자.\n",
    "n = input()\n",
    "n = ord(n)\n",
    "print(chr(n+1))"
   ]
  },
  {
   "cell_type": "code",
   "execution_count": 16,
   "metadata": {},
   "outputs": [
    {
     "name": "stdout",
     "output_type": "stream",
     "text": [
      "52\n",
      "52.00\n",
      "3 6 9\n",
      "18 6.00\n"
     ]
    }
   ],
   "source": [
    "# 실수 1개를 입력받아 소숫점 이하 두 번째 자리까지의 정확도로 반올림한 값을 출력해보자.\n",
    "# format() 사용\n",
    "a = float(input())\n",
    "print(format(a,\".2f\"))\n",
    "\n",
    "\n",
    "# 정수 3개를 입력받아 합과 평균을 출력해보자.\n",
    "# % 사용\n",
    "a,b,c = map(int, input().split())\n",
    "d = a+b+c\n",
    "e = d/3\n",
    "print(d, \"%.2f\" %(e))"
   ]
  },
  {
   "cell_type": "markdown",
   "metadata": {},
   "source": [
    "- 2021.05.11"
   ]
  },
  {
   "cell_type": "code",
   "execution_count": 17,
   "metadata": {},
   "outputs": [
    {
     "name": "stdout",
     "output_type": "stream",
     "text": [
      "10\n",
      "20\n"
     ]
    }
   ],
   "source": [
    "# 비트시프트연산\n",
    "# 정수 1개를 입력받아 2배 곱해 출력해보자.\n",
    "\n",
    "a = int(input())\n",
    "print(a<<1)"
   ]
  },
  {
   "cell_type": "code",
   "execution_count": 18,
   "metadata": {},
   "outputs": [
    {
     "name": "stdout",
     "output_type": "stream",
     "text": [
      "10 20\n",
      "10485760\n"
     ]
    }
   ],
   "source": [
    "# 정수 2개(a, b)를 입력받아 a를 2^b배 곱한 값으로 출력해보자.\n",
    "a,b = map(int, input().split())\n",
    "print(a<<b)"
   ]
  },
  {
   "cell_type": "code",
   "execution_count": 20,
   "metadata": {},
   "outputs": [
    {
     "name": "stdout",
     "output_type": "stream",
     "text": [
      "0\n",
      "True\n"
     ]
    },
    {
     "data": {
      "text/plain": [
       "False"
      ]
     },
     "execution_count": 20,
     "metadata": {},
     "output_type": "execute_result"
    }
   ],
   "source": [
    "# 참, 거짓의 논리값 인 불(boolean) 값을 다루어주는 예약어는 not, and, or 이 있고\n",
    "# python 언어에서 정수값 0은 False(거짓)로 평가되고, 그 외의 값들은 모두 True(참)로 평가된다.\n",
    "# 빈 문자열 \"\" ,''는 False 이고, 나머지 문자열들은 True 로 평가된다.\n",
    "n = int(input())\n",
    "print(not n)\n",
    "bool(n)"
   ]
  },
  {
   "cell_type": "code",
   "execution_count": 21,
   "metadata": {},
   "outputs": [
    {
     "name": "stdout",
     "output_type": "stream",
     "text": [
      "1 1\n",
      "True\n"
     ]
    }
   ],
   "source": [
    "# 논리연산 boolean AND\n",
    "# and 예약어는 주어진 두 bool 값이 모두 True 일 때에만 True 로 계산하고, 나머지 경우는 False 로 계산한다.\n",
    "a, b = input().split()\n",
    "print(bool(int(a)) and bool(int(b)))\n",
    "\n",
    "# boolean OR\n",
    "# or 예약어는 주어진 두 bool 값 중에서 하나라도 True 이면 True 로 계산하고, 나머지 경우는 False 로 계산한다."
   ]
  },
  {
   "cell_type": "markdown",
   "metadata": {},
   "source": [
    "- XOR 연산\n",
    " 참 거짓이 서로 다를 때에만 True 로 계산하는 논리연산\n",
    "\n",
    "\n",
    "2개의 정수값이 입력될 때, 그 불 값(True/False) 이 서로 다를 때에만 True 를 출력하는 프로그램을 작성해보자.\n",
    " - \n",
    "       A B  bool\n",
    "       0 0  False , False\n",
    "       1 0  True,   False\n",
    "       0 1  False,  True\n",
    "       1 1  True,   True"
   ]
  },
  {
   "cell_type": "code",
   "execution_count": 22,
   "metadata": {},
   "outputs": [
    {
     "name": "stdout",
     "output_type": "stream",
     "text": [
      "False\n"
     ]
    }
   ],
   "source": [
    "a, b = input().split()\n",
    "c = bool(int(a))\n",
    "d = bool(int(b))\n",
    "print((c and(not d)) or ((not c) and d))"
   ]
  },
  {
   "cell_type": "markdown",
   "metadata": {},
   "source": [
    "2개의 정수값이 입력될 때,\n",
    "그 불 값(True/False) 이 서로 같을 때에만 True 를 출력하는 프로그램을 작성해보자."
   ]
  },
  {
   "cell_type": "code",
   "execution_count": 23,
   "metadata": {},
   "outputs": [
    {
     "name": "stdout",
     "output_type": "stream",
     "text": [
      "0 0\n",
      "True\n"
     ]
    }
   ],
   "source": [
    "a, b = input().split()\n",
    "c = bool(int(a))\n",
    "d = bool(int(b))\n",
    "print((not c) and (not d) or (c and d))\n",
    "print( c==d )"
   ]
  },
  {
   "cell_type": "markdown",
   "metadata": {},
   "source": [
    "2개의 정수값이 입력될 때,\n",
    "그 불 값(True/False) 이 모두 False 일 때에만 True 를 출력하는 프로그램을 작성해보자."
   ]
  },
  {
   "cell_type": "code",
   "execution_count": 24,
   "metadata": {},
   "outputs": [
    {
     "name": "stdout",
     "output_type": "stream",
     "text": [
      "0 0\n",
      "True\n"
     ]
    }
   ],
   "source": [
    "a, b = input().split()\n",
    "c= bool(int(a))\n",
    "d= bool(int(b))\n",
    "\n",
    "print( c==False and d==False )\n",
    "print( not (c or d) )\n",
    "print(not c and not d)"
   ]
  },
  {
   "cell_type": "code",
   "execution_count": null,
   "metadata": {},
   "outputs": [],
   "source": []
  }
 ],
 "metadata": {
  "kernelspec": {
   "display_name": "Python 3",
   "language": "python",
   "name": "python3"
  },
  "language_info": {
   "codemirror_mode": {
    "name": "ipython",
    "version": 3
   },
   "file_extension": ".py",
   "mimetype": "text/x-python",
   "name": "python",
   "nbconvert_exporter": "python",
   "pygments_lexer": "ipython3",
   "version": "3.7.4"
  }
 },
 "nbformat": 4,
 "nbformat_minor": 2
}
