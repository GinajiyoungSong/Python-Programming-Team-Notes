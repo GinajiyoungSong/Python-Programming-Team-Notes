{
 "cells": [
  {
   "cell_type": "markdown",
   "metadata": {},
   "source": [
    "## 선택정렬\n",
    "- 작은 값을 선택하여 하나씩 정렬\n",
    "- 리스트 안에서 최소값을 찾아서 새로운 리스트에 순서대로 넣어주는 것\n",
    "\n",
    "## 삽입정렬\n",
    "- 앞에 있는 값부터 넣고, 순서대로 넣을 때마다 넣어진 값과 크기 비교를 하여, 작은값으로 위치할 수 있는 곳에 정렬\n",
    "\n",
    "## 병합절렬\n",
    "- 중간값으로 그룹 분할하여 각 집합의 [0] 제일 처음값끼리 비교해서, 순서대로 작은값부터 넣음\n",
    "\n",
    "## 퀵정렬\n",
    "- 기준값 대상으로 앞순서 정렬, 뒷순서 정렬"
   ]
  },
  {
   "cell_type": "code",
   "execution_count": 2,
   "metadata": {},
   "outputs": [
    {
     "name": "stdout",
     "output_type": "stream",
     "text": [
      "[5]\n",
      "[10, 66, 77, 54, 32, 11, 15]\n",
      "--------------------\n"
     ]
    }
   ],
   "source": [
    "# 선택정렬\n",
    "입력값 = [5, 10, 66, 77, 54, 32 ,11 ,15]\n",
    "정렬된리스트 = []\n",
    "\n",
    "정렬된리스트.append(min(입력값))# 작은값을 순서대로 넣는다\n",
    "입력값.pop(입력값.index(min(입력값)))\n",
    "print(정렬된리스트)\n",
    "print(입력값)\n",
    "print('-'*20)"
   ]
  },
  {
   "cell_type": "code",
   "execution_count": 3,
   "metadata": {},
   "outputs": [
    {
     "name": "stdout",
     "output_type": "stream",
     "text": [
      "[5, 10]\n",
      "[66, 77, 54, 32, 11, 15]\n",
      "--------------------\n",
      "[5, 10, 11]\n",
      "[66, 77, 54, 32, 15]\n",
      "--------------------\n",
      "[5, 10, 11, 15]\n",
      "[66, 77, 54, 32]\n",
      "--------------------\n",
      "[5, 10, 11, 15, 32]\n",
      "[66, 77, 54]\n",
      "--------------------\n",
      "[5, 10, 11, 15, 32, 54]\n",
      "[66, 77]\n",
      "--------------------\n",
      "[5, 10, 11, 15, 32, 54, 66]\n",
      "[77]\n",
      "--------------------\n",
      "[5, 10, 11, 15, 32, 54, 66, 77]\n",
      "[]\n",
      "--------------------\n"
     ]
    }
   ],
   "source": [
    "while 입력값:\n",
    "    정렬된리스트.append(min(입력값))\n",
    "    입력값.pop(입력값.index(min(입력값)))\n",
    "    print(정렬된리스트)\n",
    "    print(입력값)\n",
    "    print('-'*20)"
   ]
  },
  {
   "cell_type": "code",
   "execution_count": 21,
   "metadata": {},
   "outputs": [
    {
     "data": {
      "text/plain": [
       "8"
      ]
     },
     "execution_count": 21,
     "metadata": {},
     "output_type": "execute_result"
    }
   ],
   "source": [
    "입력값 = [5, 10, 66, 77, 54, 32 ,11 ,15, 2]\n",
    "\n",
    "def 최소값(li):\n",
    "    최소 = li[0]\n",
    "    count = 0\n",
    "    index = 0\n",
    "    for i in li:\n",
    "        if 최소 > i:\n",
    "            최소 = i\n",
    "            index = count\n",
    "       \n",
    "        count += 1\n",
    "        \n",
    "    return index # 최소값이 어디에 있는지\n",
    "    \n",
    "최소값(입력값)"
   ]
  },
  {
   "cell_type": "code",
   "execution_count": 23,
   "metadata": {},
   "outputs": [
    {
     "data": {
      "text/plain": [
       "[5, 10, 11, 15, 32, 54, 66, 77]"
      ]
     },
     "execution_count": 23,
     "metadata": {},
     "output_type": "execute_result"
    }
   ],
   "source": [
    "# 삽입정렬\n",
    "\n",
    "입력값 = [5, 10, 66, 77, 54, 32 ,11 ,15]\n",
    "정렬된리스트 = []\n",
    "\n",
    "def 삽입값이_들어갈_인덱스(정렬된리스트,삽입값):\n",
    "    for i in range(len(정렬된리스트)):\n",
    "        if 삽입값 < 정렬된리스트[i]:\n",
    "            return i\n",
    "    return len(정렬된리스트) # if 조건에 안들어간 값은 가장 마지막 값으로 index 리턴\n",
    "\n",
    "\n",
    "while 입력값:\n",
    "    삽입값 = 입력값.pop(0)\n",
    "    인덱스 = 삽입값이_들어갈_인덱스(정렬된리스트,삽입값)\n",
    "    정렬된리스트.insert(인덱스,삽입값)\n",
    "    \n",
    "정렬된리스트"
   ]
  },
  {
   "cell_type": "code",
   "execution_count": 26,
   "metadata": {},
   "outputs": [
    {
     "name": "stdout",
     "output_type": "stream",
     "text": [
      "[5, 10, 66, 77]\n",
      "[54, 32, 11, 15]\n"
     ]
    }
   ],
   "source": [
    "# 병합정렬 - 계산복잡도 (O(nlog))\n",
    "\n",
    "# 분할, 정복\n",
    "입력값 = [5, 10, 66, 77, 54, 32 ,11 ,15]\n",
    "전체인덱스 = len(입력값) \n",
    "중간값 = 전체인덱스 //2 # 3\n",
    "print(입력값[:중간값])\n",
    "print(입력값[중간값:])"
   ]
  },
  {
   "cell_type": "code",
   "execution_count": 31,
   "metadata": {},
   "outputs": [
    {
     "name": "stdout",
     "output_type": "stream",
     "text": [
      "[5], [10], [66], [77], [54], [32], [11], [15]\n"
     ]
    }
   ],
   "source": [
    "def 병합정렬(li):\n",
    "    li_count = len(li)\n",
    "    if li_count <= 1:\n",
    "        return li\n",
    "    mid = li_count // 2\n",
    "    group_1 = 병합정렬(li[:mid])\n",
    "    group_2 = 병합정렬(li[mid:])\n",
    "    return '{}, {}'.format(group_1,group_2) # 병합정렬(병합정렬(병합정렬(li))) 수행한 값\n",
    "\n",
    "print(병합정렬(입력값))\n",
    "# 각 값을 호출하여 li_count = 1 이 될때까지 쪼갬"
   ]
  },
  {
   "cell_type": "code",
   "execution_count": 32,
   "metadata": {},
   "outputs": [
    {
     "data": {
      "text/plain": [
       "[5, 10, 11, 15, 32, 54, 66, 77]"
      ]
     },
     "execution_count": 32,
     "metadata": {},
     "output_type": "execute_result"
    }
   ],
   "source": [
    "def 병합정렬(li):\n",
    "    result = []\n",
    "    li_count = len(li)\n",
    "    if li_count <= 1:\n",
    "        return li\n",
    "    mid = li_count // 2\n",
    "    group_1 = 병합정렬(li[:mid])\n",
    "    group_2 = 병합정렬(li[mid:])\n",
    "    \n",
    "    # 여기까지 분할\n",
    "    \n",
    "    while group_1 and group_2:\n",
    "        if group_1[0] < group_2[0]:\n",
    "            result.append(group_1.pop(0)) # 리스트에서 작은값을 제거해야 하니 pop 사용\n",
    "        else:\n",
    "            result.append(group_2.pop(0))\n",
    "    while group_1:\n",
    "        result.append(group_1.pop(0))\n",
    "    while group_2:\n",
    "        result.append(group_2.pop(0))\n",
    "        \n",
    "        # 정복\n",
    "        \n",
    "    return result\n",
    "\n",
    "병합정렬(입력값)"
   ]
  },
  {
   "cell_type": "code",
   "execution_count": 42,
   "metadata": {},
   "outputs": [
    {
     "data": {
      "text/plain": [
       "[5, 10, 11, 15, 32, 54, 77]"
      ]
     },
     "execution_count": 42,
     "metadata": {},
     "output_type": "execute_result"
    }
   ],
   "source": [
    "# 퀵정렬  계산복잡도 :(O(nlog)) \n",
    "# 계산복잡도가 logN 에서 worst O(n**2) 만큼 증가할 수 있음\n",
    "\n",
    "# 피봇 - 기준값\n",
    "\n",
    "def 퀵정렬(li):\n",
    "    li_count = len(li)\n",
    "    if li_count <=1:\n",
    "        return li\n",
    "    pivot = li.pop(0) # 처음 피벗값을 설정하면 제거해줘야 계속 비교할 수 있음\n",
    "    group_1 = []\n",
    "    group_2 = []\n",
    "    for i in range(li_count-1):\n",
    "        if li[i] < pivot:\n",
    "            group_1.append(li[i])\n",
    "        else:\n",
    "            group_2.append(li[i])\n",
    "    \n",
    "    return 퀵정렬(group_1) + [pivot] + 퀵정렬(group_2)\n",
    "\n",
    "퀵정렬(입력값)"
   ]
  },
  {
   "cell_type": "code",
   "execution_count": 41,
   "metadata": {},
   "outputs": [
    {
     "name": "stdout",
     "output_type": "stream",
     "text": [
      "[5, 10, 11, 15, 32, 54, 66, 77]\n",
      "[54, 32, 10, 5, 11, 15], pivot:66, [77]\n",
      "[32, 10, 5, 11, 15], pivot:54, []\n",
      "[10, 5, 11, 15], pivot:32, []\n",
      "[5], pivot:10, [11, 15]\n",
      "[], pivot:11, [15]\n"
     ]
    }
   ],
   "source": [
    "# 내부 수행결과 확인\n",
    "g_list =[]\n",
    "def 퀵정렬(li):\n",
    "    global g_list\n",
    "    li_count = len(li)\n",
    "    if li_count <=1:\n",
    "        return li\n",
    "    pivot = li.pop(0) # 처음 피벗값을 설정하면 제거해줘야 계속 비교할 수 있음\n",
    "    group_1 = []\n",
    "    group_2 = []\n",
    "    for i in range(li_count-1):\n",
    "        if li[i] < pivot:\n",
    "            group_1.append(li[i])\n",
    "        else:\n",
    "            group_2.append(li[i])\n",
    "    result = '{}, pivot:{}, {}'.format(group_1,pivot,group_2)\n",
    "    g_list.append(result)\n",
    "    return 퀵정렬(group_1) + [pivot] + 퀵정렬(group_2)\n",
    "\n",
    "\n",
    "입력값 = [66, 77, 54, 32 ,10, 5, 11, 15]\n",
    "print(퀵정렬(입력값))\n",
    "for i in g_list:\n",
    "    print(i)"
   ]
  },
  {
   "cell_type": "code",
   "execution_count": null,
   "metadata": {},
   "outputs": [],
   "source": []
  }
 ],
 "metadata": {
  "kernelspec": {
   "display_name": "Python 3",
   "language": "python",
   "name": "python3"
  },
  "language_info": {
   "codemirror_mode": {
    "name": "ipython",
    "version": 3
   },
   "file_extension": ".py",
   "mimetype": "text/x-python",
   "name": "python",
   "nbconvert_exporter": "python",
   "pygments_lexer": "ipython3",
   "version": "3.7.4"
  }
 },
 "nbformat": 4,
 "nbformat_minor": 2
}
