{
 "cells": [
  {
   "cell_type": "markdown",
   "metadata": {},
   "source": [
    "# 재귀함수\n",
    "- 내가 나를 호출하는 방법\n",
    "- 반복문 <-> 재귀함수\n"
   ]
  },
  {
   "cell_type": "code",
   "execution_count": 2,
   "metadata": {},
   "outputs": [
    {
     "data": {
      "text/plain": [
       "5050"
      ]
     },
     "execution_count": 2,
     "metadata": {},
     "output_type": "execute_result"
    }
   ],
   "source": [
    "## 1부터 100까지 합\n",
    "# 곱 -> 팩토리얼 (!) 5! = 5*4*3*2*1\n",
    "# 시그마공식 : n*(n+1)//2\n",
    "\n",
    "x = 0\n",
    "for i in range (101):\n",
    "    x +=i\n",
    "    \n",
    "x"
   ]
  },
  {
   "cell_type": "code",
   "execution_count": 12,
   "metadata": {},
   "outputs": [
    {
     "data": {
      "text/plain": [
       "5050"
      ]
     },
     "execution_count": 12,
     "metadata": {},
     "output_type": "execute_result"
    }
   ],
   "source": [
    "def f(n):\n",
    "    if n <= 1:\n",
    "        return 1\n",
    "    else : \n",
    "        return n + f(n-1)\n",
    "\n",
    "n=100\n",
    "f(n)"
   ]
  },
  {
   "cell_type": "markdown",
   "metadata": {},
   "source": [
    "    f(n)    n      return       최종\n",
    "1. f(100)   100    100 + f(99) 100 + 99 + 98 + 97 + 95 + 95 + 94 + 93 + 92 + ... + 2 + 1\n",
    "2. f(99)    99     99 + f(98)  99 + 98 + 97 + 95 + 95 + 94 + 93 + 92 + ... + 2 + 1\n",
    "3. f(98)    98     98 + f(97)  98 + 97 + 95 + 95 + 94 + 93 + 92 + ... + 2 + 1\n",
    "4. f(97)    97     97 + f(96)  97 + 96 + 95 + 94 + 93 + 92 + ... + 2 + 1\n",
    "5. f(96)    96     96 + f(95)  96 + 95 + 94 + 93 + 92 + ... + 2 + 1\n",
    "6. f(95)    95     95 + f(94)  95 + 94 + 93 + 92 + ... + 2 + 1\n",
    "7. f(94)    94     94 + f(93)  94 + 93 + 92 + ... + 2 + 1\n",
    "...\n",
    "1. f(2)      2      2 + f(1)    2 + 1\n",
    "1. f(1)      1      1"
   ]
  },
  {
   "cell_type": "markdown",
   "metadata": {},
   "source": [
    "# 문제 접근 방법\n",
    "\n",
    "1. 반복문은 처음숫자에서 - 끝 숫자까지 Bottom-Up ( 작은 문제에서 출발 )\n",
    "2. 재귀의 경우는 Top-Down ( 큰 문제에서 출발 )\n",
    "\n",
    " -  재귀의 경우는 꼭 종료조건이 있어야 한다"
   ]
  },
  {
   "cell_type": "code",
   "execution_count": 14,
   "metadata": {},
   "outputs": [
    {
     "name": "stdout",
     "output_type": "stream",
     "text": [
      "##sdfsf\n",
      "##hi\n",
      "Hello World\n",
      "##\n",
      "##ecit\n",
      "##exit\n"
     ]
    }
   ],
   "source": [
    "while True:\n",
    "    if input('##') == 'exit':\n",
    "        break\n",
    "    if input('##') == 'hi':\n",
    "        print('Hello World')\n",
    "    else :\n",
    "        continue"
   ]
  },
  {
   "cell_type": "code",
   "execution_count": 16,
   "metadata": {},
   "outputs": [
    {
     "name": "stdout",
     "output_type": "stream",
     "text": [
      "##adfwe\n",
      "##sd\n",
      "##ge\n",
      "##hi\n",
      "Hello World\n",
      "##exit\n"
     ]
    }
   ],
   "source": [
    "# 무한루프 재귀함수 -> return None 종료조건\n",
    "def console():\n",
    "    if input('##') == 'exit':\n",
    "        return None\n",
    "    if input('##') == 'hi':\n",
    "        print('Hello World')\n",
    "    console()\n",
    "    \n",
    "console()"
   ]
  },
  {
   "cell_type": "code",
   "execution_count": 23,
   "metadata": {},
   "outputs": [
    {
     "name": "stdout",
     "output_type": "stream",
     "text": [
      "1011\n",
      "0o13\n",
      "0xb\n",
      "\n",
      "--------\n",
      "2진수로 바꿀 숫자를 입력하세요:11\n",
      "1011\n"
     ]
    }
   ],
   "source": [
    "# 2진수 구하기 - 반복문\n",
    "print(bin(11)[2:])\n",
    "print(oct(11))\n",
    "print(hex(11))\n",
    "\n",
    "print('\\n--------')\n",
    "\n",
    "x = int(input('2진수로 바꿀 숫자를 입력하세요:'))\n",
    "result = ''\n",
    "while True:\n",
    "    if x % 2 == 0: \n",
    "        result +='0'\n",
    "    else:\n",
    "        result +='1'\n",
    "    x = x // 2 # 몫 갱신\n",
    "    if x == 1 :\n",
    "            result += str(x)\n",
    "            print(result[::-1])\n",
    "            break"
   ]
  },
  {
   "cell_type": "markdown",
   "metadata": {},
   "source": [
    "           나누는 수(이진수의 조건)     몫             나머지\n",
    "     1.      2                        11(입력수)           1\n",
    "     2.      2                         5                   1\n",
    "     3.      2                         2                   0  \n",
    "     4.      2                         0                   1"
   ]
  },
  {
   "cell_type": "code",
   "execution_count": 24,
   "metadata": {},
   "outputs": [
    {
     "name": "stdout",
     "output_type": "stream",
     "text": [
      "1\n",
      "0\n",
      "1\n",
      "1\n"
     ]
    }
   ],
   "source": [
    "# 무한 루프 반복문을 풀어서 쓰면\n",
    "def 이진수구하기(입력값):\n",
    "    if 입력값 < 2 :\n",
    "        print(입력값)\n",
    "        # 더이상 나눠지지 않는 경우 -> 즉 몫은 0, 나머지가 1 또는 0  ----> if 문\n",
    "        \n",
    "    else : \n",
    "        이진수구하기(입력값//2) # 몫\n",
    "        print(입력값 % 2) # 나머지\n",
    "        \n",
    "이진수구하기(11)"
   ]
  },
  {
   "cell_type": "code",
   "execution_count": 26,
   "metadata": {},
   "outputs": [
    {
     "name": "stdout",
     "output_type": "stream",
     "text": [
      "1011\n"
     ]
    }
   ],
   "source": [
    "def 이진수구하기(입력값):\n",
    "    if 입력값 < 2 :\n",
    "        return str(입력값)\n",
    "        \n",
    "    else : \n",
    "        return str(이진수구하기(입력값//2)) + str(입력값 % 2) # 나머지\n",
    "        \n",
    "print(이진수구하기(11))"
   ]
  },
  {
   "cell_type": "markdown",
   "metadata": {},
   "source": [
    "이진수구하기(11) -> str(이진수구하기(5)) + str(1) <br>\n",
    "이진수구하기(5)  -> str(이진수구하기(2)) + str(1) <br>\n",
    "이진수구하기(2)  -> str(이진수구하기(2)) + str(0) <br>\n",
    "이진수구하기(1)  -> str(입력값)"
   ]
  },
  {
   "cell_type": "code",
   "execution_count": 27,
   "metadata": {},
   "outputs": [
    {
     "name": "stdout",
     "output_type": "stream",
     "text": [
      "d\n",
      "l\n",
      "r\n",
      "o\n",
      "w\n",
      "_\n",
      "o\n",
      "l\n",
      "l\n",
      "e\n",
      "h\n",
      "None\n"
     ]
    }
   ],
   "source": [
    "def 문자열뒤집기(문자열):\n",
    "    if 문자열 == '':\n",
    "        return None\n",
    "    else:\n",
    "        문자열뒤집기(문자열[1:])\n",
    "        print(문자열[0])\n",
    "        \n",
    "print(문자열뒤집기('hello_world'))"
   ]
  },
  {
   "cell_type": "code",
   "execution_count": 32,
   "metadata": {},
   "outputs": [
    {
     "name": "stdout",
     "output_type": "stream",
     "text": [
      "dlrow_olleh\n"
     ]
    }
   ],
   "source": [
    "result = ''\n",
    "for i in 'hello_world':\n",
    "    result = i + result # result += i 와 반대로 뒤로 하나씩 붙이기 때문에 뒤집기(역순) 가능\n",
    "    \n",
    "print(result)"
   ]
  },
  {
   "cell_type": "code",
   "execution_count": 34,
   "metadata": {},
   "outputs": [
    {
     "name": "stdout",
     "output_type": "stream",
     "text": [
      "8\n"
     ]
    }
   ],
   "source": [
    "x = 0\n",
    "for i in '2231':\n",
    "    x += int(i)\n",
    "print(x)\n",
    "\n",
    "\n",
    "n = '2231'\n",
    "def f(n):\n",
    "    if x == '':\n",
    "        return None\n",
    "    else :\n",
    "        print(int(f[0]) + f(n-1))"
   ]
  },
  {
   "cell_type": "code",
   "execution_count": 35,
   "metadata": {},
   "outputs": [
    {
     "name": "stdout",
     "output_type": "stream",
     "text": [
      "10 9 8 7 6 5 4 3 2 1 end\n"
     ]
    }
   ],
   "source": [
    "def 숫자세기(숫자):\n",
    "    if 숫자 <= 0:\n",
    "        print('end')\n",
    "    else:\n",
    "        print(숫자, end=' ')\n",
    "        return 숫자세기(숫자-1)\n",
    "    \n",
    "숫자세기(10)"
   ]
  },
  {
   "cell_type": "code",
   "execution_count": 49,
   "metadata": {},
   "outputs": [
    {
     "name": "stdout",
     "output_type": "stream",
     "text": [
      "8 13 21 34 55 "
     ]
    },
    {
     "data": {
      "text/plain": [
       "89"
      ]
     },
     "execution_count": 49,
     "metadata": {},
     "output_type": "execute_result"
    }
   ],
   "source": [
    "# 피보나치\n",
    "# 0 1 1 2 3 5 8 13 21\n",
    "\n",
    "# f(n) = f(n-1) + f(n-1)\n",
    "\n",
    "def pibonacci(count):\n",
    "    if count == 0 or count == 1:\n",
    "        return 1\n",
    "    else :\n",
    "        return pibonacci(count-1)+pibonacci(count-2)\n",
    "    \n",
    "print(pibonacci(5), pibonacci(6), pibonacci(7), pibonacci(8), pibonacci(9), end= ' ')\n",
    "pibonacci(10)"
   ]
  },
  {
   "cell_type": "code",
   "execution_count": 43,
   "metadata": {},
   "outputs": [
    {
     "name": "stdout",
     "output_type": "stream",
     "text": [
      "0 1 1 2 3 5 8 13 21 34 55 "
     ]
    }
   ],
   "source": [
    "n = 0\n",
    "s = 1\n",
    "print(n, end= ' ')\n",
    "for i in range(10):\n",
    "    print(s, end= ' ')\n",
    "    n, s = s, n+s"
   ]
  },
  {
   "cell_type": "code",
   "execution_count": 51,
   "metadata": {},
   "outputs": [
    {
     "name": "stdout",
     "output_type": "stream",
     "text": [
      "1000\n"
     ]
    },
    {
     "data": {
      "text/plain": [
       "1000"
      ]
     },
     "execution_count": 51,
     "metadata": {},
     "output_type": "execute_result"
    }
   ],
   "source": [
    "# list 반복문과 재귀함수\n",
    "s = 0\n",
    "for i in [100, 200, 300, 400]:\n",
    "    s += i\n",
    "print(s)\n",
    "\n",
    "\n",
    "def s(li):\n",
    "    if len(li) == 1:\n",
    "        return li[0]\n",
    "    else:\n",
    "        return li[0] + s(li[1:])\n",
    "    \n",
    "s([100, 200, 300, 400])"
   ]
  },
  {
   "cell_type": "code",
   "execution_count": 53,
   "metadata": {},
   "outputs": [
    {
     "name": "stdout",
     "output_type": "stream",
     "text": [
      "64\n",
      "64\n"
     ]
    }
   ],
   "source": [
    "# 승수\n",
    "print(2**6)\n",
    "\n",
    "result =1\n",
    "for i in range(6):\n",
    "    result *=2\n",
    "print(result)"
   ]
  },
  {
   "cell_type": "code",
   "execution_count": 55,
   "metadata": {},
   "outputs": [
    {
     "data": {
      "text/plain": [
       "64"
      ]
     },
     "execution_count": 55,
     "metadata": {},
     "output_type": "execute_result"
    }
   ],
   "source": [
    "def f(n,e):\n",
    "    result=1\n",
    "    for i in range(e):\n",
    "        result *=n\n",
    "    return result\n",
    "\n",
    "f(2, 6)"
   ]
  },
  {
   "cell_type": "code",
   "execution_count": 56,
   "metadata": {},
   "outputs": [
    {
     "data": {
      "text/plain": [
       "64"
      ]
     },
     "execution_count": 56,
     "metadata": {},
     "output_type": "execute_result"
    }
   ],
   "source": [
    "def f(n,e):\n",
    "    if e == 1:\n",
    "        return n\n",
    "    else:\n",
    "        return n * f(n, e-1)\n",
    "    \n",
    "f(2, 6)\n",
    "        "
   ]
  },
  {
   "cell_type": "code",
   "execution_count": 57,
   "metadata": {},
   "outputs": [
    {
     "data": {
      "text/plain": [
       "'1,000,000,000'"
      ]
     },
     "execution_count": 57,
     "metadata": {},
     "output_type": "execute_result"
    }
   ],
   "source": [
    "def comma(s):\n",
    "    if len(s)<3:\n",
    "        return s\n",
    "    else:\n",
    "        return comma(s[:len(s)-3]) + ',' + s[len(s)-3:]\n",
    "comma('1000000000')"
   ]
  },
  {
   "cell_type": "code",
   "execution_count": 58,
   "metadata": {},
   "outputs": [
    {
     "data": {
      "text/plain": [
       "'999,999,999,999,999,999'"
      ]
     },
     "execution_count": 58,
     "metadata": {},
     "output_type": "execute_result"
    }
   ],
   "source": [
    "# 내장함수 사용\n",
    "n = 999999999999999999\n",
    "n = format(n, ',')\n",
    "n"
   ]
  },
  {
   "cell_type": "code",
   "execution_count": null,
   "metadata": {},
   "outputs": [],
   "source": []
  }
 ],
 "metadata": {
  "kernelspec": {
   "display_name": "Python 3",
   "language": "python",
   "name": "python3"
  },
  "language_info": {
   "codemirror_mode": {
    "name": "ipython",
    "version": 3
   },
   "file_extension": ".py",
   "mimetype": "text/x-python",
   "name": "python",
   "nbconvert_exporter": "python",
   "pygments_lexer": "ipython3",
   "version": "3.7.4"
  }
 },
 "nbformat": 4,
 "nbformat_minor": 2
}
