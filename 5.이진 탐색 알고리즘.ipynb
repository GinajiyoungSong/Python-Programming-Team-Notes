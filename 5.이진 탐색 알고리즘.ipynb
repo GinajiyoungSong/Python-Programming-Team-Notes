{
 "cells": [
  {
   "cell_type": "markdown",
   "metadata": {},
   "source": [
    "### 순차 탐색 : 리스트 안에 있는 특정한 데이터를 찾기 위해 앞에서부터 데이터를 하나씩 탐색\n",
    " - 정렬 알고리즘에서 데이터 탐색할 때 조건에 따라 데이터를 탐색한 방법\n",
    " \n",
    "### 이진 탐색 : 정렬되어 있는 리스트에서 탐색 범위를 절반씩 좁혀가며 데이터를 탐색\n",
    " - 이진 탐색은 시작점, 끝점, 중간점을 이용하여 탐색 범위를 설정\n",
    " \n",
    " ## 탐색범위가 클 때 이진 탐색을 먼저 생각한다"
   ]
  },
  {
   "cell_type": "code",
   "execution_count": 1,
   "metadata": {},
   "outputs": [
    {
     "name": "stdout",
     "output_type": "stream",
     "text": [
      "10 7\n",
      "1 3 5 7 9 11 13 15 17 19\n",
      "4\n"
     ]
    }
   ],
   "source": [
    "# 이진 탐색 소스코드 구현 ( 재귀 함수 )\n",
    "def binary_search(array, target, start, end):\n",
    "    if start > end:\n",
    "        return None\n",
    "    mid = (start + end) // 2 # 몫 : 소수점 이하 버림\n",
    "    # 찾은 경우 중간점 인덱스 반환\n",
    "    if array[mid] == target:\n",
    "        return mid\n",
    "    \n",
    "    # 중앙값보다 작은경우\n",
    "    elif array[mid] > target:\n",
    "        return binary_search(array, target, start, mid-1) # end값을 중앙값보다 작게 바꿔서 재귀적으로 반복\n",
    "    # 중앙값보다 큰경우\n",
    "    else:\n",
    "        return binary_search(array, target, mid+1, end)\n",
    "    \n",
    "# n(원소의 개수)과 target(찾고자 하는 값)을 입력 받기\n",
    "n, target = list(map(int, input().split()))\n",
    "\n",
    "# 전체 원소 입력 받기\n",
    "array = list(map(int, input().split()))\n",
    "\n",
    "# 이진 탐색 수행 결과 출력\n",
    "result = binary_search(array, target, 0, n-1)\n",
    "if result == None:\n",
    "    print(\"원소가 존재하지 않습니다.\")\n",
    "else:\n",
    "    print(result+1) # 해당 원소가 존재하는 index 값 호출      \n",
    "    "
   ]
  },
  {
   "cell_type": "code",
   "execution_count": 5,
   "metadata": {},
   "outputs": [
    {
     "name": "stdout",
     "output_type": "stream",
     "text": [
      "배열 a에 x를 삽입할 때 정렬된 순서대로 x가 들어갈 수 있는 왼쪽 인덱스 출력 2\n",
      "배열 a에 x를 삽입할 때 정렬된 순서대로 x가 들어갈 수 있는 오른쪽 인덱스 출력 4\n"
     ]
    },
    {
     "data": {
      "text/plain": [
       "2"
      ]
     },
     "execution_count": 5,
     "metadata": {},
     "output_type": "execute_result"
    }
   ],
   "source": [
    "# 파이선 이진 탐색 라이브러리\n",
    "from bisect import bisect_left, bisect_right\n",
    "\n",
    "a = [1, 2, 4, 4 ,8]\n",
    "x = 4\n",
    "print('배열 a에 x를 삽입할 때 정렬된 순서대로 x가 들어갈 수 있는 왼쪽 인덱스 출력', bisect_left(a, x))\n",
    "print('배열 a에 x를 삽입할 때 정렬된 순서대로 x가 들어갈 수 있는 오른쪽 인덱스 출력', bisect_right(a, x))\n",
    "\n",
    "\n",
    "\n",
    "# 값이 특정 범위에 속하는 데이터 개수 구하기\n",
    "def count_by_range(a, left_value, right_value):\n",
    "    right_index = bisect_right(a, right_value)\n",
    "    left_index = bisect_left(a, left_value)\n",
    "    return right_index - left_index # index 위치끼리 빼주면 개수\n",
    "\n",
    "a = [1, 2, 3, 3, 3, 3, 4, 4, 8, 9]\n",
    "# 값이 4인 데이터 개수 출력\n",
    "count_by_range(a, 4 ,4)"
   ]
  },
  {
   "cell_type": "markdown",
   "metadata": {},
   "source": [
    "### 파라메트릭 서치 : 최적화 문제를 결정 문제('예' 혹은 '아니오')로 바꾸어 해결하는 기법\n",
    "- 예시 : 특정한 조건을 만족하는 가장 알맞는 값을 빠르게 찾는 최적화 문제\n",
    "\n",
    "\n",
    "<문제> 떡볶이 떡 만들기\n",
    "- 떡집 일을 하기로 했습니다. 떡볶이 떡의 길이는 제각각이지만, 한 봉지 안에 들어가는 떡의 총 길이는 절단기로 잘라서 맞춰줍니다. 절단기에 높이(H)를 지정하면 줄지어진 떡을 한번에 절단합니다. 높이가 H보다 긴 떡은 H 위의 부분이 잘릴 것이고, 낮은 떡은 잘리지 않습니다.\n",
    "- 예를 들어 높이가 19ㅡ14ㅡ10ㅡ17cm인 떡이 나란히 있고 절단기 높이를 15cm로 지정하면, 자른 뒤, 15ㅡ14ㅡ10ㅡ15cm로 잘린 떡의 길이는 4,0,0,2cm 입니다. 손님은 6cm만큼의 길이를 가져갑니다.\n",
    "- 손님이 왔을 때 요청한 총 길이가 M일 때 적어도 M만큼의 떡을 얻기 위해 절단기에 설정할 수 있는 높이의 최댓값을 구하는 프로그램을 작성하세요.\n",
    "\n",
    "------------------\n",
    "<입력 조건>\n",
    "- 첫째 줄에 떡의 개수 N과 요청한 떡의 길이 M이 주어집니다 ( 1 <= N <= 1,000,000, 1 <= M <= 2,000,000,000)\n",
    "- 둘째 줄에는 떡의 개별 높이가 주어집니다. 떡 높이의 총합은 항상 M 이상이므로, 손님은 필요한 양만큼 떡을 사갈 수 있습니다. 높이는 10억보다 작거나 같은 양의 정수 또는 0 입니다.\n",
    "\n",
    "<출력 조건>\n",
    "- 적어도 M만큼의 떡을 집에 가져가기 위해 절단기에 설정할 수 있는 높이의 최댓값을 출력합니다."
   ]
  },
  {
   "cell_type": "code",
   "execution_count": 6,
   "metadata": {},
   "outputs": [
    {
     "name": "stdout",
     "output_type": "stream",
     "text": [
      "4 6\n",
      "19 15 10 17\n"
     ]
    },
    {
     "data": {
      "text/plain": [
       "15"
      ]
     },
     "execution_count": 6,
     "metadata": {},
     "output_type": "execute_result"
    }
   ],
   "source": [
    "# 떡의 개수(N)와 요청한 떡의 길이(M)을 입력\n",
    "n, m = list(map(int, input().split(' ')))\n",
    "# 각 떡의 개별 높이 정보를 입력\n",
    "array = list(map(int, input().split()))\n",
    "\n",
    "# 이진 탐색을 위한 시작점과 끝점 설정\n",
    "start = 0\n",
    "end = max(array)\n",
    "\n",
    "# 이진 탐색 수행 (반복적)\n",
    "result = 0\n",
    "while(start <= end):\n",
    "    total = 0\n",
    "    mid = (start + end) // 2\n",
    "    for x in array:\n",
    "        # 잘랐을 때의 떡의 양 계산 = 중간값보다 큰 떡이 있을 때 x - mid 만큼만 떡 생김\n",
    "        if x > mid:\n",
    "            total += x - mid\n",
    "    # 떡의 양이 부족한 경우 더 많이 자르기 (왼쪽 부분 탐색)\n",
    "    if total < m :\n",
    "        end = mid-1 # 떡의 길이 총합이 충족되지 않았으므로, end 를 중간값보다 작게\n",
    "        \n",
    "    # 떡의 양이 충분한 경우 덜 자르기 (오른쪽 부분 탐색)\n",
    "    else:\n",
    "        result = mid # 중간값을 result 에 저장, 마지막에 저장된 값이 최대한 덜 잘랐을 때\n",
    "        start = mid + 1\n",
    "    \n",
    "result       "
   ]
  },
  {
   "cell_type": "markdown",
   "metadata": {},
   "source": [
    "<문제> 정렬된 배열에서 특정 수의 개수 구하기\n",
    "- N개의 원소를 포함하고 있는 수열이 오름차순으로 정렬되어 있습니다. 이때 이 수열에서 X가 등장하는 횟수를 계산하세요. 단 값이 x인 원소가 하나도 없다면 -1을 출력합니다.\n",
    "\n",
    "- 예를 들어 수열 {1, 1, 2, 2, 2, 2, 3}이 있을 때 x = 2라면, 현재 수열에서 값이 2인 원소가 4개이므로 4를 출력합니다.\n",
    "단, 이문제는 시간 복잡도 O(logN)으로 알고리즘을 설계하지 않으면 시간 초과 판정을 받습니다."
   ]
  },
  {
   "cell_type": "code",
   "execution_count": 7,
   "metadata": {},
   "outputs": [
    {
     "name": "stdout",
     "output_type": "stream",
     "text": [
      "7 2\n",
      "1 1 2 2 2 2 3\n",
      "4\n"
     ]
    }
   ],
   "source": [
    "# 데이터가 정렬되어 있기 때문에 이진 탐색을 수행할 수 있음\n",
    "# 선형탐색으로 풀면 시간 초과 판정\n",
    "\n",
    "from bisect import bisect_left, bisect_right\n",
    "\n",
    "def count_by_range(array, left_value, right_value):\n",
    "    right_index = bisect_right(array, right_value)\n",
    "    left_index = bisect_left(array, left_value)\n",
    "    return right_index - left_index\n",
    "\n",
    "n ,x = map(int, input().split())\n",
    "array = list(map(int, input().split()))\n",
    "# 값이 [x,x] 범위에 있는 데이터의 개수 계산\n",
    "count = count_by_range(array,x,x)\n",
    "\n",
    "# 값이 x인 원소가 존재하지 않는다면\n",
    "if count ==0:\n",
    "    print(-1)\n",
    "# 값이 존재하면\n",
    "else: \n",
    "    print(count)"
   ]
  },
  {
   "cell_type": "code",
   "execution_count": null,
   "metadata": {},
   "outputs": [],
   "source": []
  }
 ],
 "metadata": {
  "kernelspec": {
   "display_name": "Python 3",
   "language": "python",
   "name": "python3"
  },
  "language_info": {
   "codemirror_mode": {
    "name": "ipython",
    "version": 3
   },
   "file_extension": ".py",
   "mimetype": "text/x-python",
   "name": "python",
   "nbconvert_exporter": "python",
   "pygments_lexer": "ipython3",
   "version": "3.7.4"
  }
 },
 "nbformat": 4,
 "nbformat_minor": 2
}
