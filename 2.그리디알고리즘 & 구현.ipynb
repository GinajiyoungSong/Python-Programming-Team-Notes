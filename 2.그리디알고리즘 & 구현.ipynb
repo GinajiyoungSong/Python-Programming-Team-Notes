{
 "cells": [
  {
   "cell_type": "markdown",
   "metadata": {},
   "source": [
    "<문제> 거스름 돈: \n",
    "- 당신은 음식점의 계산을 도와주는 점원입니다. 카운터에는 거스름돈으로 사용할 500원, 100원, 50원, 10원짜리 동전이 무한히 존재한다고 가정합니다. 손님에게 거슬러 주어야 할 돈이 N원일 때 거슬러 주어야 할 동전의 최소 개수를 구하세요. 단, 거슬러 줘야 할 돈 N은 항상 10의 배수입니다.\n",
    "\n",
    "\n",
    "1. 가장 큰 화폐 단위부터 돈을 거슬러 주는 것\n",
    "    - 최적의 해를 빠르게 구하기 위해서는 가장 큰 화폐 단위부터 돈을 거슬러 주면 됩니다.\n",
    "    - N원을 거슬러 줘야 할 때, 가장 먼저 500원으로 거슬러 줄 수 있을 만큼 거슬러 줍니다.\n",
    "    - 이후에 100원, 50원, 10원짜리 동전을 차례대로 거슬러 줄 수 있을 만큼 거슬러 주면 됩니다.\n",
    "\n",
    "2. 문제풀이를 위한 최소한의 아이디어로 정당성 분석을 한다"
   ]
  },
  {
   "cell_type": "code",
   "execution_count": 2,
   "metadata": {},
   "outputs": [
    {
     "name": "stdout",
     "output_type": "stream",
     "text": [
      "500 2\n",
      "100 4\n",
      "50 5\n",
      "10 6\n",
      "6\n"
     ]
    }
   ],
   "source": [
    "n = 1260\n",
    "count = 0\n",
    "\n",
    "# 큰 단위의 화폐부터 차례대로 확인하기\n",
    "array = [500, 100, 50, 10]\n",
    "\n",
    "for coin in array:\n",
    "    count += n //coin # 동전갯수(몫)\n",
    "    n %= coin # 잔돈(나머지)\n",
    "    print(coin, count)\n",
    "    \n"
   ]
  },
  {
   "cell_type": "markdown",
   "metadata": {},
   "source": [
    "<문제> 1이 될때까지:\n",
    "- 어떠한 수 N이 1이 될 때까지 다음의 두 과정 중 하나를 반복적으로 선택하여 수행하려고 합니다. 단, 두번째 연산은 N이 K로 나누어 떨어질 때만 선택할 수 있습니다\n",
    " 1. N에서 1을 뺍니다.\n",
    " 2. N을 K로 나눕니다.\n",
    " \n",
    " \n",
    "- 예를 들어, N이 17, K가 4라고 가정합시다. 이때 1번의 과정을 한 번 수행하면 N은 16이 됩니다. 이후에 2번의 과정을 두번 수행하면 N은 1이 됩니다. 결과적으로 이 경우 전체 과정을 실행한 횟수는 3이 됩니다. 이는 N을 1로 만드는 최소 횟수입니다.\n",
    " \n",
    "- N과 K가 주어질 때 N이 1이 될 때 까지 1번 혹은 2번의 과정을 수행해야 하는 최소 횟수를 구하는 프로그램을 작성하세요\n",
    " "
   ]
  },
  {
   "cell_type": "code",
   "execution_count": 35,
   "metadata": {},
   "outputs": [
    {
     "name": "stdout",
     "output_type": "stream",
     "text": [
      "81 3\n",
      "나누어 떨어지는 수 81\n",
      "n: 81\n",
      "나누어 떨어지는 수 27\n",
      "n: 27\n",
      "나누어 떨어지는 수 9\n",
      "n: 9\n",
      "나누어 떨어지는 수 3\n",
      "n: 3\n",
      "나누어 떨어지는 수 0\n",
      "n: 0\n",
      "닶: 4\n"
     ]
    }
   ],
   "source": [
    "# 정당성 분석 - 1을 빼는것보다 K로 나눔을 많이 하는 것이 전체횟수를 줄일수 있다\n",
    "\n",
    "n, k = map(int, input().split())\n",
    "result = 0\n",
    "\n",
    "while True:\n",
    "    # N이 K로 나누어 떨어지는 수가 될 때까지 빼기\n",
    "    \n",
    "    target = (n // k) * k\n",
    "    print('나누어 떨어지는 수',target)\n",
    "    result += (n - target) # target 의 수가 되야 나누어 떨어질수 있음\n",
    "    \n",
    "    n = target\n",
    "    print('n:' ,n)\n",
    "    # N 이 K보다 작을 때 (더이상 나눌 수 없을 때) 반복문 탈출\n",
    "    if n < k :\n",
    "        break\n",
    "    \n",
    "    result += 1\n",
    "    n //= k\n",
    "    \n",
    "result += ( n - 1)    \n",
    "print('닶:',result)\n",
    "# 최소횟수가 틀려??"
   ]
  },
  {
   "cell_type": "markdown",
   "metadata": {},
   "source": [
    "<문제> 곱하기 혹은 더하기\n",
    "\n",
    "- 각 자리의 숫자(0부터 9)로만 이루어진 문자열 S가 주어졌을 때, 왼쪽부터 오른쪽으로 하나씩 모든 숫자를 확인하며 숫자 사이에 'x' 혹은 '+' 연산자를 넣어 결과적으로 만들어질 수 있는 가장 큰 수를 구하는 프로그램을 작성하세요. 단, +보다 x를 먼저 계산하는 일반적인 방식과는 달리, 모든 연산은 왼쪽에서부터 순서대로 이루어진다고 가정합니다.\n",
    "\n",
    "- 예를 들어 02984라는 문자열로 만들 수 있는 가장 큰 수는 ((((0+2)x9)x8)x4) = 576입니다. 또한 만들어질 수 있는 가장 큰수는 항상 20억 이하의 정수가 되도록 입력이 주어집니다\n",
    "\n",
    "\n",
    "\n",
    "- 최적의 해를 찾기 위해서, 0 또는 1인 경우는 덧셈 연산을 진행하고 그 외에는 곱셉을 진행한다"
   ]
  },
  {
   "cell_type": "code",
   "execution_count": 2,
   "metadata": {},
   "outputs": [
    {
     "name": "stdout",
     "output_type": "stream",
     "text": [
      "123456\n"
     ]
    },
    {
     "data": {
      "text/plain": [
       "1080"
      ]
     },
     "execution_count": 2,
     "metadata": {},
     "output_type": "execute_result"
    }
   ],
   "source": [
    "data = input()\n",
    "#첫번째 숫자부터 대입 ( 왼쪽부터 순서대로 연산 )\n",
    "\n",
    "result = int(data[0])\n",
    "for i in range(1, len(data)):\n",
    "    num = int(data[i])\n",
    "    if num <= 1 or result <= 1:\n",
    "        result += num\n",
    "    else :\n",
    "        result *= num\n",
    "        \n",
    "result"
   ]
  },
  {
   "cell_type": "markdown",
   "metadata": {},
   "source": [
    "<문제> 모험가 길드\n",
    "- 한 마음을에 모험가가 N명 있습니다. 모험가 길드에서는 N명의모험가를 대상으로 '공포도'를 측정했는데, '공포도'가 높은 모험가는 쉽게 공포를 느껴 위험 상황에서 제대로 대처할 능력이 떨어집니다.\n",
    "- 모험가 길드장인 동빈이는 모험가 그룹을 안전하게 구성하고자 공포도가 X인 모험가는 반드시 X명 이상으로 구성한 모험가 그룹에 참여해야 여행을 떠날 수 있도록 규정했습니다.\n",
    "- 동빈이는 최대 몇개의 모험가 그뤂을 만들 수 있는 지 궁금합니다. N명의 모험가에 대한 정보가 주어졌을 때, 여행을 떠날 수 있는 그룹 수의 최댓값을 구하는 프로그램을 작성하세요. (모든 모험가를 다 넣을 필요는 없다) \n",
    "\n",
    "\n",
    "1. 입력조건 : 첫째 줄에 모험가의 수 N이 주어집니다 (1 <= N <= 100,000).\n",
    "둘째 줄에 각 모험가의 공포도의 값을 N 이하의 자연수로 주어지며, 각 자연수는 공백으로 구분합니다.\n",
    "2. 출력조건 : 여행을 떠날수 있는 그룹 수의 최댓값을 출력합니다.\n",
    "\n",
    "  - 최적의 해를 찾기 위해서, 공포도를 오름차순으로 정렬하여 그룹의 포함인원에 맞게 그룹을 만든다"
   ]
  },
  {
   "cell_type": "code",
   "execution_count": 9,
   "metadata": {},
   "outputs": [
    {
     "name": "stdout",
     "output_type": "stream",
     "text": [
      "1 1 1 1 1 1 2  2 2 2 3\n",
      "[1, 1, 1, 1, 1, 1, 2, 2, 2, 2, 3]\n"
     ]
    },
    {
     "data": {
      "text/plain": [
       "8"
      ]
     },
     "execution_count": 9,
     "metadata": {},
     "output_type": "execute_result"
    }
   ],
   "source": [
    "data = list(map(int, input().split()))\n",
    "data.sort()\n",
    "print(data)\n",
    "\n",
    "result = 0 # 총 그룹의 수\n",
    "count = 0  # 현재 그룹에 포함된 모험가의 수\n",
    "\n",
    "for i in data: #공포도를 낮은 것부터 하나씩 포함시키기\n",
    "    count +=1\n",
    "    if count >= i: # 포함시킨 사람의 공포도 = i 이고 현재 모함가수 = count\n",
    "        result +=1 \n",
    "        count = 0 # 공포도가 크면 그룹 추가 result + 1, 공포도보다 모험가수가 커질때까지 count +1\n",
    "        \n",
    "        # 새 그룹이 생기면 count 멤버수를 0 으로 초기화시켜서 조건문 수행 \n",
    "\n",
    "result\n",
    "# 이렇게 풀면 최대한 그룹수를 많이 만들기 위해서 sort 가 필요함"
   ]
  },
  {
   "cell_type": "markdown",
   "metadata": {},
   "source": [
    "# 구현 (시뮬레이션과 완전 탐색)\n",
    "\n",
    "풀이를 떠올리는 것은 쉽지만 소스코드로 옮기기 어려운 문제"
   ]
  },
  {
   "cell_type": "code",
   "execution_count": 12,
   "metadata": {},
   "outputs": [
    {
     "name": "stdout",
     "output_type": "stream",
     "text": [
      "( 0 , 0 ) ( 0 , 1 ) ( 0 , 2 ) ( 0 , 3 ) ( 0 , 4 ) \n",
      "( 1 , 0 ) ( 1 , 1 ) ( 1 , 2 ) ( 1 , 3 ) ( 1 , 4 ) \n",
      "( 2 , 0 ) ( 2 , 1 ) ( 2 , 2 ) ( 2 , 3 ) ( 2 , 4 ) \n",
      "( 3 , 0 ) ( 3 , 1 ) ( 3 , 2 ) ( 3 , 3 ) ( 3 , 4 ) \n",
      "( 4 , 0 ) ( 4 , 1 ) ( 4 , 2 ) ( 4 , 3 ) ( 4 , 4 ) \n"
     ]
    }
   ],
   "source": [
    "# (5x5)행렬 위치 표기하기\n",
    "\n",
    "for i in range(5):\n",
    "    for j in range(5):\n",
    "        print('(',i,',',j,')', end=' ')\n",
    "    print()"
   ]
  },
  {
   "cell_type": "code",
   "execution_count": 17,
   "metadata": {},
   "outputs": [
    {
     "name": "stdout",
     "output_type": "stream",
     "text": [
      "( 2 , 3 )\n",
      "( 1 , 2 )\n",
      "( 2 , 1 )\n",
      "( 3 , 2 )\n"
     ]
    }
   ],
   "source": [
    "# 동서남북 위치이동 표기하기\n",
    "dx = [0, -1, 0, 1]\n",
    "dy = [1, 0 ,-1, 0]\n",
    "\n",
    "#현재위치\n",
    "x, y = 2, 2\n",
    "\n",
    "for i in range(4):\n",
    "    # 다음 위치\n",
    "    nx = x + dx[i]\n",
    "    ny = y + dy[i]\n",
    "    print('(',nx,',',ny,')')"
   ]
  },
  {
   "cell_type": "markdown",
   "metadata": {},
   "source": [
    "<문제> 상하좌우\n",
    "- 여행가 A는 N x N 크기의 정사각형 공간 위에 서 있습니다. 이 공간은 1 x 1 크기의 정사각형으로 나누어져 있습니다. 가장 왼쪽 위 좌표는 (1,1)이며, 가장 오른쪽 아래 좌표는 (N,N)에 해당합니다. 여행가 A는 상,하,좌,우 방향으로 이동할 수 있으며, 시작 좌표는 항상 (1,1)입니다. 우리앞에는 여행가 A가 이동할 계획이 적힌 계획서가 놓여 있습니다.\n",
    "- 계획서에는 하나의 줄에 띄어쓰기를 기준으로 하여 L, R, U, D 중 하나의 문자가 반복적으로 적혀 있습니다\n",
    "- 정사각형 공간을 벗어나는 움직임은 무시된다.\n",
    "\n",
    "\n",
    "(1 <= N <= 100)\n",
    "\n",
    "### 문제풀이 : 이동 후 결과 위치 - result 행렬 (x,y)좌표\n",
    "### 프로그래밍 정의 - 시뮬레이션 구현"
   ]
  },
  {
   "cell_type": "code",
   "execution_count": 3,
   "metadata": {},
   "outputs": [
    {
     "name": "stdout",
     "output_type": "stream",
     "text": [
      "5\n",
      "R R R U D D\n",
      "R\n",
      "1 2\n",
      "R\n",
      "1 3\n",
      "R\n",
      "1 4\n",
      "U\n",
      "D\n",
      "2 4\n",
      "D\n",
      "3 4\n"
     ]
    }
   ],
   "source": [
    "#시작위치\n",
    "n = int(input())\n",
    "x,y = 1,1\n",
    "plans = input().split()\n",
    "#계획서\n",
    "dx = [0, 0, -1, 1]\n",
    "dy = [-1, 1, 0, 0]\n",
    "move_type = ['L', 'R', 'U', 'D']\n",
    "\n",
    "# 이동 계획\n",
    "for plan in plans:\n",
    "    print(plan)\n",
    "    #이동 후 좌표 구하기\n",
    "    for i in range(len(move_type)): # 계획서 문자반복횟수만큼 이동\n",
    "        if plan == move_type[i]:\n",
    "            nx = x + dx[i]\n",
    "            ny = y + dy[i]\n",
    "    # 공간을 벗어나는 경우\n",
    "    if nx<1 or ny<1 or nx>n or ny>n:\n",
    "        continue\n",
    "    x,y = nx,ny\n",
    "    print(x,y)"
   ]
  },
  {
   "cell_type": "markdown",
   "metadata": {},
   "source": [
    "<문제> 시각\n",
    "- 정수 N이 입력되면 00시 00분 00초부터 N시 59분 59초까지의 모든 시각 중에서 3이 하나라도 포함되는 모든 경우의 수를 구하는 프로그램을 작성하세요. 예를 들어 1을 입력했을 때 다음은 3이 하나라도 포함되어 있으므로 세어야 하는 시각입니다\n",
    "\n",
    "\n",
    "### 문제풀이 : 시간 총 갯수 결과값 count\n",
    "### 프로그래밍 정의 - 시뮬레이션 구현 - 단어 포함했을 때 count 후에 총합"
   ]
  },
  {
   "cell_type": "code",
   "execution_count": 4,
   "metadata": {},
   "outputs": [
    {
     "name": "stdout",
     "output_type": "stream",
     "text": [
      "5\n"
     ]
    },
    {
     "data": {
      "text/plain": [
       "11475"
      ]
     },
     "execution_count": 4,
     "metadata": {},
     "output_type": "execute_result"
    }
   ],
   "source": [
    "# H 입력받기\n",
    "h = int(input())\n",
    "\n",
    "count= 0\n",
    "for i in range(h + 1):\n",
    "    for j in range(60):\n",
    "        for k in range(60):\n",
    "            # 매 시간 안에 3이 포함되어 있으면 count 증가\n",
    "            if '3' in str(i)+str(j)+str(k): #조건문으로 넣어서\n",
    "                count +=1\n",
    "                \n",
    "count"
   ]
  },
  {
   "cell_type": "markdown",
   "metadata": {},
   "source": [
    "<문제> 왕실의 나이트\n",
    "- 행복 왕국의 왕실 정원은체스판과 같은 8 x 8 좌표 평면입니다. 왕실 정원의 특정한 한칸에 나이트가 서있습니다. 나이트는 매우 충성스러운 신하로서 매일 무술을 연마합니다.\n",
    "- 나이트는 말을 타고 있기 때문에 이동할 때는 L자 형태로만 이동할 수 있으며, 정원 밖으로는 나갈 수 없습니다.  나이트는 특정 위치에서 다음과 같은 2가지 경우로 이동할 수 있습니다.\n",
    "- 이동횟수를 구하시요\n",
    "\n",
    "8 x 8 좌표평면 (행 위치는 1 ~ 8, 열 위치는 a ~ h)\n",
    "1. 수평으로 2칸, 수직 1칸\n",
    "2. 수직으로 2칸, 수평 1칸\n",
    "\n",
    "### 문제풀이 : 이동횟수는 결과값 count\n",
    "### 프로그래밍 정의 - 시뮬레이션 구현"
   ]
  },
  {
   "cell_type": "code",
   "execution_count": 12,
   "metadata": {},
   "outputs": [
    {
     "name": "stdout",
     "output_type": "stream",
     "text": [
      "c2\n",
      "6\n"
     ]
    }
   ],
   "source": [
    "# 현재 나이트의 위치 입력받기\n",
    "input_data = input()\n",
    "row = int(input_data[1])\n",
    "column = int(ord(input_data[0]) - int(ord('a'))) + 1 # 영어 알파벳 순서를 숫자로 변환 후 1부터 시작하게 더해줌\n",
    "\n",
    "# 나이트가 이동할 수 있는 8가지 방향 정의\n",
    "steps = [(-2, -1),(-1,-2),(1,-2),(2,-1),(-1,2),(-2,1),(2,1),(1,2)]\n",
    "\n",
    "# 8가지 방향에 대하여 각 위치로 이동이 가능한지 확인\n",
    "result = 0\n",
    "for step in steps:\n",
    "    # 이동하고자 하는 위치 확인\n",
    "    next_row = row + step[0]\n",
    "    next_column = column + step[1]\n",
    "    # 해당 위치로 이동이 가능하다면 카운트 증가\n",
    "    if next_row >=1 and next_row <=8 and next_column >=1 and next_column <=8:\n",
    "        result +=1\n",
    "        \n",
    "print(result)"
   ]
  },
  {
   "cell_type": "markdown",
   "metadata": {},
   "source": [
    "<문제> 문자열 재정렬\n",
    "\n",
    "- 알파벳 대문자와 숫자(0~9)로만 구성된 문자열이 입력으로 주어집니다. 이때 모든 알파벳을 오름차순으로 정렬하여 이어서 출력한 뒤에, 그 뒤에 모든 숫자를 더한 값을 이어서 출력합니다.\n",
    "- 예를 들어 K1KA5CB7이라는 값이 들어오면 ABCKK13을 출력합니다.\n",
    "\n",
    "문제풀이 : 알파벳은 별도로 list 저장 후 sorting 숫자는 sum"
   ]
  },
  {
   "cell_type": "code",
   "execution_count": 18,
   "metadata": {},
   "outputs": [
    {
     "name": "stdout",
     "output_type": "stream",
     "text": [
      "K1KA5CB7\n",
      "ABCKK13\n"
     ]
    }
   ],
   "source": [
    "data = input()\n",
    "result = []\n",
    "value = 0\n",
    "\n",
    "# 문자를 하나씩 확인하기\n",
    "for x in data:\n",
    "    if x.isalpha():\n",
    "        result.append(x)\n",
    "    else:\n",
    "        value+= int(x) # 숫자는 숫자 자료형으로 변환후 sum 연산\n",
    "        \n",
    "# 알파벳 오름차순 정렬\n",
    "result.sort()\n",
    "\n",
    "# 숫자가 하나라도 존재하는 경우 가장 뒤에 삽입\n",
    "if value != 0:\n",
    "    result.append(str(value))\n",
    "    \n",
    "print(''.join(result)) # 리스트에 각 원소를 하나로 합쳐줌 "
   ]
  },
  {
   "cell_type": "code",
   "execution_count": null,
   "metadata": {},
   "outputs": [],
   "source": []
  }
 ],
 "metadata": {
  "kernelspec": {
   "display_name": "Python 3",
   "language": "python",
   "name": "python3"
  },
  "language_info": {
   "codemirror_mode": {
    "name": "ipython",
    "version": 3
   },
   "file_extension": ".py",
   "mimetype": "text/x-python",
   "name": "python",
   "nbconvert_exporter": "python",
   "pygments_lexer": "ipython3",
   "version": "3.7.4"
  }
 },
 "nbformat": 4,
 "nbformat_minor": 2
}
